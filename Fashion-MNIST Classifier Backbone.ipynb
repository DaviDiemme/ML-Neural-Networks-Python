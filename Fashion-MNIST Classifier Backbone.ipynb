{
 "cells": [
  {
   "cell_type": "code",
   "execution_count": 1,
   "metadata": {
    "id": "zaBZ0vKZrGgJ"
   },
   "outputs": [],
   "source": [
    "''' Import the fundamental modules '''\n",
    "import sys\n",
    "import numpy as np\n",
    "import torch\n",
    "import torchvision\n",
    "from matplotlib import pyplot as plt\n",
    "from IPython import display\n",
    "from torch import nn\n",
    "from torch.utils import data\n",
    "from torchvision import transforms"
   ]
  },
  {
   "cell_type": "markdown",
   "metadata": {},
   "source": [
    "## *Accumulator Class*\n",
    "The Accumulator is a class whose data consist of *n* number of cells (specified when initialising the object) containing the sums of numbers, the inputs in `Accumulator.add()`.\n",
    "\n",
    "`Accumulator.reset()` will reset the object's data cells to 0.0, maintaining the same dimension\n",
    "`Accumulator.__getitem__()` is a private method to find the data at a specified index\n",
    "\n",
    "## *Animator Class*\n",
    "The Animator class is used to collect and plot data, regarding the *training* and *validation accuracy* as well as *loss*, using *matplotlib* during the execution of the training loop. The function `Animator.add()` is used to add and plot data to the object\n",
    "\n",
    "## *set_axes function*\n",
    "The `set_axes()` is a simple function to setup the axes for plots via matplotlib\n",
    "\n",
    "## *init_weights function*\n",
    "The `init_weights()` function initialises the weights of the model to random values, and bias to zero. It is useful when multiple layers of the same type have to be initialized in the same way.\n",
    "\n",
    "## *accuracy function*\n",
    "The function `accuracy(y, y_hat)` is to compare the predictions with the tests, it returns the number of correct predictions.\n",
    "\n",
    "* y_hat is a matrix, its 2nd dimension stores a list of prediction scores for each class\n",
    "* the index of the highest score (in the 2nd dimension of y_hat) indicates the predicted class\n",
    "* the predictions *y_hat* are compared with the test *y*\n",
    "* taking the sum yields the total number of correct predictions\n",
    "\n",
    "## *eval_accuracy function*\n",
    "The function `eval_accuracy()` computes the overall accuracy of the model by comparing the amount of correct predicitons to the total number of predictions.\n",
    "* It sets the model to evaluation mode by using the `net.eval()` method\n",
    "* An accumulator object is created to contain 2 variables: the no. of correct predictions, and the no. of total predictions\n",
    "* The accuracy is calculated by dividing the sum of correct predicitons by the sums of total predictions"
   ]
  },
  {
   "cell_type": "code",
   "execution_count": 2,
   "metadata": {},
   "outputs": [],
   "source": [
    "\"\"\"Some class and function definitions\"\"\"\n",
    "\n",
    "''' Define accumulator class for accumulating sums over `n` variables '''\n",
    "class Accumulator:\n",
    "    def __init__(self, n):\n",
    "        self.data = [0.0] * n\n",
    "\n",
    "    def add(self, *args):\n",
    "        self.data = [a + float(b) for a, b in zip(self.data, args)]\n",
    "\n",
    "    def reset(self):\n",
    "        self.data = [0.0] * len(self.data)\n",
    "\n",
    "    def __getitem__(self, idx):\n",
    "        return self.data[idx]\n",
    "\n",
    "\n",
    "\"\"\" Plotting data in animation \"\"\"\n",
    "class Animator:\n",
    "    def __init__(self, xlabel=None, ylabel=None, legend=None, xlim=None,\n",
    "                 ylim=None, xscale='linear', yscale='linear',\n",
    "                 fmts=('-', 'm--', 'g-.', 'r:'), nrows=1, ncols=1,\n",
    "                 figsize=(3.5, 2.5)):\n",
    "        \n",
    "        # Incrementally plot multiple lines\n",
    "        if legend is None:\n",
    "            legend = []\n",
    "\n",
    "        # Use the svg format to display a plot in Jupyter\n",
    "        #display.set_matplotlib_formats('svg')\n",
    "        self.fig, self.axes = plt.subplots(nrows, ncols, figsize=figsize)\n",
    "        if nrows * ncols == 1:\n",
    "            self.axes = [self.axes, ]\n",
    "            \n",
    "        # Use a lambda function to capture arguments\n",
    "        self.config_axes = lambda: set_axes(self.axes[0], xlabel, ylabel, xlim, ylim, xscale, yscale, legend)\n",
    "        self.X, self.Y, self.fmts = None, None, fmts\n",
    "\n",
    "    \n",
    "    # Add multiple data points into the figure\n",
    "    def add(self, x, y):\n",
    "        if not hasattr(y, \"__len__\"):\n",
    "            y = [y]\n",
    "        n = len(y)\n",
    "        if not hasattr(x, \"__len__\"):\n",
    "            x = [x] * n\n",
    "        if not self.X:\n",
    "            self.X = [[] for _ in range(n)]\n",
    "        if not self.Y:\n",
    "            self.Y = [[] for _ in range(n)]\n",
    "        for i, (a, b) in enumerate(zip(x, y)):\n",
    "            if a is not None and b is not None:\n",
    "                self.X[i].append(a)\n",
    "                self.Y[i].append(b)\n",
    "        self.axes[0].cla()\n",
    "        for x, y, fmt in zip(self.X, self.Y, self.fmts):\n",
    "            self.axes[0].plot(x, y, fmt)\n",
    "        self.config_axes()\n",
    "        display.display(self.fig)\n",
    "        display.clear_output(wait=True)\n",
    "\n",
    "\n",
    "\"\"\" Set the axes for matplotlib \"\"\"\n",
    "def set_axes(axes, xlabel, ylabel, xlim, ylim, xscale, yscale, legend):\n",
    "    axes.set_xlabel(xlabel)\n",
    "    axes.set_ylabel(ylabel)\n",
    "    axes.set_xscale(xscale)\n",
    "    axes.set_yscale(yscale)\n",
    "    axes.set_xlim(xlim)\n",
    "    axes.set_ylim(ylim)\n",
    "    if legend:\n",
    "        axes.legend(legend)\n",
    "    axes.grid()\n",
    "\n",
    "\n",
    "''' Weight instantiation and initialisation '''\n",
    "def init_weights(m):\n",
    "    # check type to init different layers in different ways\n",
    "    if type(m) == nn.Linear:\n",
    "        torch.nn.init.normal_(m.weight, std=0.01)\n",
    "        torch.nn.init.zeros_(m.bias)\n",
    "\n",
    "\n",
    "''' Compute the number of correct predictions '''\n",
    "def accuracy(y_hat, y):  #y_hat is a matrix; 2nd dimension stores prediction scores for each class.\n",
    "\n",
    "    if len(y_hat.shape) > 1 and y_hat.shape[1] > 1:\n",
    "        y_hat = y_hat.argmax(axis=1)        # Predicted class is the index of max score    \n",
    "        \n",
    "    cmp = (y_hat.type(y.dtype) == y)        # because`==` is sensitive to data types\n",
    "    return float(torch.sum(cmp))\n",
    "\n",
    "\n",
    "\n",
    "''' Compute the accuracy for a model on a dataset '''\n",
    "def eval_accuracy(net, data_iter):\n",
    "    \n",
    "    # Set the model to evaluation mode\n",
    "    if isinstance(net, torch.nn.Module):\n",
    "        net.eval()\n",
    "        \n",
    "    metric = Accumulator(2)  # No. of correct predictions, no. of predictions\n",
    "    for _, (X, y) in enumerate(data_iter):\n",
    "        metric.add(accuracy(net(X), y), y.numel())\n",
    "        \n",
    "    return metric[0] / metric[1]\n",
    "\n",
    "\n",
    "\n",
    "argmax = lambda x, *args, **kwargs: x.argmax(*args, **kwargs)"
   ]
  },
  {
   "cell_type": "markdown",
   "metadata": {},
   "source": [
    "## Reading the Dataset\n",
    "PyTorch has an abstract *Dataset* class.\n",
    "\n",
    "1. A Dataset can be anything that has a **`__len__`** function (called by Python’s standard `len` function) and a **`__getitem__`** function as a way of indexing into it.\n",
    "\n",
    "    PyTorch’s *`torch.utils.data.TensorDataset(features, labels)`* is a *Dataset wrapper for tensors*. By defining a length and way of indexing, this also gives a way to iterate, index, and slice along the first dimension of a tensor.\n",
    "    In general any created Dataset class has to be implemented, extending `torch.utils.data.Dataset`\n",
    "\n",
    "2. In order to itareate through the dataset, `torch.utils.data.DataLoader(dataset, batch_size)` is used. In addition to iterate through the dataset, this also provides built-in functionality for:\n",
    "    * Batching the data\n",
    "    * Shuffling the data\n",
    "    * Load the data in parallel using multiprocessing workers\n",
    "\n",
    "## FashionMNIST Dataset\n",
    "The *FashionMNIST dataset* a dataset of Zalando's article images consisting of a training set of 60,000 samples and a test set of 10,000 samples. Each sample is a 28x28 grayscale image, associated with a label from 10 classes.\n",
    "\n",
    "The train and test dataset are now loaded using the `datasets.FashionMNIST()` function in the `torchvision` module with a batch size of 256 samples.\n",
    "\n",
    "***The argument `train=True/False` decides which set to load between the train or test sets.***"
   ]
  },
  {
   "cell_type": "code",
   "execution_count": 3,
   "metadata": {
    "colab": {
     "base_uri": "https://localhost:8080/"
    },
    "id": "AU244TLybNpG",
    "outputId": "44053a16-40fb-41be-cbe7-585df2fcf972"
   },
   "outputs": [],
   "source": [
    "# Download the Fashion-MNIST dataset, load it into memory, and read training and test batches\n",
    "resize = None\n",
    "batch_size = 256\n",
    "trans = [transforms.ToTensor()]\n",
    "\n",
    "if resize:\n",
    "    trans.insert(0, transforms.Resize(resize))\n",
    "\n",
    "trans = transforms.Compose(trans)\n",
    "mnist_train = torchvision.datasets.FashionMNIST(root=\"../data\", train=True, transform=trans, download=True)\n",
    "mnist_test = torchvision.datasets.FashionMNIST(root=\"../data\", train=False, transform=trans, download=True)\n",
    "\n",
    "train_iter = data.DataLoader(mnist_train, batch_size, shuffle=True, num_workers=4)\n",
    "test_iter = data.DataLoader(mnist_test, batch_size, shuffle=False, num_workers=4) # num_workers:processes to read the data ( use 4)"
   ]
  },
  {
   "cell_type": "markdown",
   "metadata": {},
   "source": [
    "## The Model\n",
    "The neural network model used here has one backbone block with two MLPs. Each MLP is made of two linear functions and one activation function, and the layers are implemented in a sequence using ‘nn.Sequential’.\n",
    "\n",
    "## Stem\n",
    "The Stem is defined as a class method and is used to split the input image tensor into N number of square patches, vectorise the patches and finally output a feature matrix 𝑋∈𝑅 , with d = features.\n",
    "\n",
    "## Classifier\n",
    "The classifier is also declared as a class method to extract the mean feature vector x∈𝑅 from the feature matrix. The mean features will be directly used for the classification and training process."
   ]
  },
  {
   "cell_type": "code",
   "execution_count": 4,
   "metadata": {
    "id": "fsU1oDj1DMX4"
   },
   "outputs": [],
   "source": [
    "class Net(torch.nn.Module):\n",
    "\n",
    "  def __init__(self, num_inputs, num_hidden, num_outputs):\n",
    "      super(Net, self).__init__()\n",
    "\n",
    "      self.num_hidden = num_hidden\n",
    "      self.num_inputs = num_inputs\n",
    "      self.num_outputs = num_outputs\n",
    "\n",
    "      self.backbone_mlp1 = nn.Sequential(\n",
    "                          nn.Linear(num_hidden, num_hidden), \n",
    "                          nn.ReLU(),\n",
    "                          nn.Linear(num_hidden, num_hidden))\n",
    "      \n",
    "      self.backbone_mlp2 = nn.Sequential(\n",
    "                          nn.Linear(num_inputs, num_inputs), \n",
    "                          nn.ReLU(), \n",
    "                          nn.Linear(num_inputs, num_inputs))\n",
    "\n",
    "  def forward(self, x):\n",
    "\n",
    "      x = self.Stem(x, 7)\n",
    "      \n",
    "      x = torch.transpose(x, 1, 2)    # transpose before first backbone mlp\n",
    "      x = self.backbone_mlp1(x)\n",
    "\n",
    "      x = torch.transpose(x, 1, 2)  # transpose before second backbone mlp\n",
    "      x = self.backbone_mlp2(x)\n",
    "      \n",
    "      out = self.Classifier(x)\n",
    "\n",
    "      return out\n",
    "    \n",
    "  def Stem(self, x, PATCH_SIZE):\n",
    "      '''\n",
    "      A function to split the input image into square patches\n",
    "      and then rearrange the pixels in each patch.\n",
    "      The input image of size (h, w) is rearranged into (num_patches, patch_size^2).\n",
    "      \n",
    "      - PATCH_SIZE is the lenght of the square patch in pixels\n",
    "      (i.e. 7x7 patch: PATCH_SIZE=7).\n",
    "\n",
    "      - num_patches is the number of patches in the image,\n",
    "      it is calculated by dividing the image size by the patch size\n",
    "      '''\n",
    "      PATCH_SIZE\n",
    "      num_patches = (28//PATCH_SIZE)**2\n",
    "      unfold = nn.Unfold(kernel_size=(7,7), stride=(7,7))\n",
    "\n",
    "      x_divided = x.unfold(2, PATCH_SIZE, PATCH_SIZE)\\\n",
    "                  .unfold(3, PATCH_SIZE, PATCH_SIZE)\n",
    "        \n",
    "      x_divided = x_divided.reshape( -1, num_patches,\\\n",
    "                                    PATCH_SIZE, PATCH_SIZE)\n",
    "              \n",
    "      return x_divided.reshape(-1, num_patches, PATCH_SIZE**2)\n",
    "\n",
    "  def Classifier(self, x):\n",
    "      '''\n",
    "      A function to extract the mean feature vector\n",
    "      from the feature matrix and that will be directly used for the\n",
    "      classification and training process\n",
    "      '''\n",
    "      x = x.mean(1, False)\n",
    "      #print('after mean: ', x.size())      \n",
    "\n",
    "      return x"
   ]
  },
  {
   "cell_type": "markdown",
   "metadata": {},
   "source": [
    "## Training\n",
    "In order to fix the weights of the neural network to make correct predictions, the model has to be **trained** many times recurrently. The training loop has a defined number of iterations (**epochs**) which affects the overall accuracy and performance of the ultimate model.\n",
    "\n",
    "This training loop is fixed for softmax regression, implemented to make it reusable.\n",
    "\n",
    "* `train_epoch()` : function for training on each epoch of the loop, it computes and stores the values of accuracy and loss\n",
    "* `train()` : function to create a training loop, collect data over the iterations and plot results"
   ]
  },
  {
   "cell_type": "code",
   "execution_count": 5,
   "metadata": {
    "id": "BWe0Qn207cgk"
   },
   "outputs": [],
   "source": [
    "def train_epoch(net, train_iter, loss, updater):\n",
    "    # Set the model to training mode\n",
    "    if isinstance(net, torch.nn.Module):\n",
    "        net.train()\n",
    "    # Sum of training loss, sum of training accuracy, no. of examples\n",
    "    metric = Accumulator(3)\n",
    "    \n",
    "    for X, y in train_iter:\n",
    "        # Compute gradients and update parameters\n",
    "        y_hat = net(X)\n",
    "        l = loss(y_hat, y)\n",
    "        if isinstance(updater, torch.optim.Optimizer):\n",
    "            updater.zero_grad()\n",
    "            l.backward()\n",
    "            updater.step()\n",
    "            metric.add(float(l) * len(y), accuracy(y_hat, y), y.size().numel())\n",
    "        else:\n",
    "            l.sum().backward()\n",
    "            updater(X.shape[0])\n",
    "            metric.add(float(l.sum()), accuracy(y_hat, y), y.numel())\n",
    "    # Return training loss and training accuracy\n",
    "    return metric[0] / metric[2], metric[1] / metric[2]\n",
    "\n",
    "\n",
    "#Train a model\n",
    "def train(net, train_iter, test_iter, loss, num_epochs, updater):\n",
    "    animator = Animator(xlabel='epoch', xlim=[0, num_epochs], ylim=[0, 1], legend=['train loss', 'train acc', 'test acc'])\n",
    "    \n",
    "    for epoch in range(num_epochs):\n",
    "        train_metrics = train_epoch(net, train_iter, loss, updater)\n",
    "        test_acc = eval_accuracy(net, test_iter)\n",
    "        animator.add(epoch + 1, train_metrics + (test_acc,))\n",
    "        \n",
    "    train_loss, train_acc = train_metrics\n",
    "    print('train final accuracy: ', train_acc)\n",
    "    print('test final loss: ', train_loss)\n",
    "    print('test final accuracy: ', test_acc)\n"
   ]
  },
  {
   "cell_type": "code",
   "execution_count": 6,
   "metadata": {
    "colab": {
     "base_uri": "https://localhost:8080/"
    },
    "id": "OyFvGpZ5De3p",
    "outputId": "46190e40-7854-473c-88ad-b525b7fef273"
   },
   "outputs": [
    {
     "data": {
      "text/plain": [
       "Net(\n",
       "  (backbone_mlp1): Sequential(\n",
       "    (0): Linear(in_features=16, out_features=16, bias=True)\n",
       "    (1): ReLU()\n",
       "    (2): Linear(in_features=16, out_features=16, bias=True)\n",
       "  )\n",
       "  (backbone_mlp2): Sequential(\n",
       "    (0): Linear(in_features=49, out_features=49, bias=True)\n",
       "    (1): ReLU()\n",
       "    (2): Linear(in_features=49, out_features=49, bias=True)\n",
       "  )\n",
       ")"
      ]
     },
     "execution_count": 6,
     "metadata": {},
     "output_type": "execute_result"
    }
   ],
   "source": [
    "num_inputs, num_hidden, num_outputs = 49, 16, 10\n",
    "net = Net(num_inputs, num_hidden, num_outputs)\n",
    "net.apply(init_weights)"
   ]
  },
  {
   "cell_type": "markdown",
   "metadata": {},
   "source": [
    "## Loss Function\n",
    "\n",
    "Use PyTorch's implementation of Softmax-Cross Entropy loss to avoid numerical instabilities. The input to loss function are the logits $\\mathbf{o}$ (and not softmax outputs).\n",
    "\n",
    "`loss = nn.CrossEntropyLoss()`\n",
    "\n",
    "## Optimization Algorithm\n",
    "*Minibatch SGD* is a standard tool for optimizing neural networks (a number of variations of this algorithm can be found in the `optim` module).\n",
    "\n",
    "To initialize an `SGD` optimizer:\n",
    "* The parameters to optimize (obtainable from the net via `net.parameters()`), \n",
    "* A dictionary of hyperparameters required:\n",
    "  * just require to set the learning rate `lr` and weight decay `wd`\n",
    " \n",
    "`optimizer = torch.optim.SGD(net.parameters(), lr=..., weight_decay=...)`\n"
   ]
  },
  {
   "cell_type": "code",
   "execution_count": 7,
   "metadata": {
    "id": "_U1zA8XeDmmE"
   },
   "outputs": [],
   "source": [
    "# Create your loss here. Use Cross Entropy loss:\n",
    "loss = nn.CrossEntropyLoss()\n",
    "\n",
    "lr = 0.6\n",
    "wd = 0.0002\n",
    "\n",
    "# Creare your optimizer here. Use SGD with weight decay wd and learning rate lr.\n",
    "optimizer = torch.optim.SGD(net.parameters(), lr=lr, weight_decay=wd)"
   ]
  },
  {
   "cell_type": "code",
   "execution_count": null,
   "metadata": {
    "colab": {
     "base_uri": "https://localhost:8080/",
     "height": 319
    },
    "id": "av7hDNFKDqd3",
    "outputId": "6d0b63b0-183d-4c71-84d8-be42003b2c58"
   },
   "outputs": [
    {
     "data": {
      "image/png": "[encoded data removed]",
      "text/plain": [
       "<Figure size 350x250 with 1 Axes>"
      ]
     },
     "metadata": {},
     "output_type": "display_data"
    }
   ],
   "source": [
    "num_epochs = 30\n",
    "train(net, train_iter, test_iter, loss, num_epochs, optimizer)"
   ]
  },
  {
   "cell_type": "markdown",
   "metadata": {},
   "source": [
    "Several attempt where made adjusting the learning rate (between 0.6 and 0.2) and \n",
    "weight decay (between 0.0002 and 0.0007) \n",
    "\n",
    "BEST SETTINGS:\n",
    "num_inputs, num_hidden, num_outputs = 49, 16, 10 \n",
    "* learning rate = 0.6\n",
    "* weight decay = 0.0002\n",
    "* epochs = 30\n",
    "* loss = nn.CrossEntropyLoss()\n",
    "* optimizer = torch.optim.SGD(net.parameters(), lr=lr, weight_decay=wd)"
   ]
  },
  {
   "cell_type": "code",
   "execution_count": null,
   "metadata": {},
   "outputs": [],
   "source": []
  }
 ],
 "metadata": {
  "colab": {
   "collapsed_sections": [],
   "name": "ECS659U_CW1.ipynb",
   "provenance": []
  },
  "kernelspec": {
   "display_name": "Python 3 (ipykernel)",
   "language": "python",
   "name": "python3"
  },
  "language_info": {
   "codemirror_mode": {
    "name": "ipython",
    "version": 3
   },
   "file_extension": ".py",
   "mimetype": "text/x-python",
   "name": "python",
   "nbconvert_exporter": "python",
   "pygments_lexer": "ipython3",
   "version": "3.12.4"
  }
 },
 "nbformat": 4,
 "nbformat_minor": 4
}
